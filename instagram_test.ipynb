{
 "cells": [
  {
   "cell_type": "code",
   "execution_count": 1,
   "metadata": {},
   "outputs": [],
   "source": [
    "# in standard library\n",
    "import time\n",
    "import pandas as pd\n",
    "from time import sleep\n",
    "\n",
    "# python3 -m pip install selenium\n",
    "from selenium import webdriver\n",
    "from selenium.webdriver.common.keys import Keys\n",
    "\n",
    "# python3 -m pip install webdriver_manager\n",
    "from webdriver_manager.chrome import ChromeDriverManager"
   ]
  },
  {
   "cell_type": "code",
   "execution_count": 2,
   "metadata": {
    "scrolled": true
   },
   "outputs": [
    {
     "name": "stderr",
     "output_type": "stream",
     "text": [
      "[WDM] - ====== WebDriver manager ======\n",
      "[WDM] - Current google-chrome version is 88.0.4324\n",
      "[WDM] - Get LATEST driver version for 88.0.4324\n"
     ]
    },
    {
     "name": "stdout",
     "output_type": "stream",
     "text": [
      "\n",
      "\n"
     ]
    },
    {
     "name": "stderr",
     "output_type": "stream",
     "text": [
      "[WDM] - Get LATEST driver version for 88.0.4324\n",
      "[WDM] - Trying to download new driver from https://chromedriver.storage.googleapis.com/88.0.4324.96/chromedriver_win32.zip\n",
      "[WDM] - Driver has been saved in cache [C:\\Users\\escho\\.wdm\\drivers\\chromedriver\\win32\\88.0.4324.96]\n"
     ]
    }
   ],
   "source": [
    "# initialize browser\n",
    "browserProfile = webdriver.ChromeOptions()\n",
    "browser = webdriver.Chrome(ChromeDriverManager().install())"
   ]
  },
  {
   "cell_type": "code",
   "execution_count": 4,
   "metadata": {},
   "outputs": [],
   "source": [
    "# instagram login info\n",
    "# username: bearcat5123\n",
    "# password:8YQid4juC3qrMQz"
   ]
  },
  {
   "cell_type": "code",
   "execution_count": 14,
   "metadata": {
    "scrolled": true
   },
   "outputs": [],
   "source": [
    "# go to specific webiste\n",
    "website_url = \"https://www.instagram.com/reds\"\n",
    "browser.get(website_url)\n",
    "\n",
    "# # find xpath\n",
    "# xpath = '/html/body/div[1]/section/main/div/header/section/div[2]/h1'\n",
    "\n",
    "# # get element\n",
    "# element = browser.find_element_by_xpath(xpath)\n",
    "\n"
   ]
  },
  {
   "cell_type": "code",
   "execution_count": 15,
   "metadata": {},
   "outputs": [],
   "source": [
    "xpath = '/html/body/div[1]/section/main/div/header/section/ul/li[2]/a/span'\n",
    "element = browser.find_element_by_xpath(xpath)\n",
    "\n",
    "element.click()\n"
   ]
  },
  {
   "cell_type": "code",
   "execution_count": 20,
   "metadata": {},
   "outputs": [],
   "source": [
    "# find elements by CSS selector\n",
    "targets = browser.find_elements_by_css_selector(\"div > div > span > a\")\n",
    "#f3194d8880b9f78 > div > div > span > a"
   ]
  },
  {
   "cell_type": "code",
   "execution_count": 21,
   "metadata": {},
   "outputs": [
    {
     "data": {
      "text/plain": [
       "24"
      ]
     },
     "execution_count": 21,
     "metadata": {},
     "output_type": "execute_result"
    }
   ],
   "source": [
    "len(targets)"
   ]
  },
  {
   "cell_type": "code",
   "execution_count": 18,
   "metadata": {
    "scrolled": false
   },
   "outputs": [],
   "source": [
    "l = len(targets)\n",
    "lastID = targets[l-1]"
   ]
  },
  {
   "cell_type": "code",
   "execution_count": 19,
   "metadata": {},
   "outputs": [],
   "source": [
    "from selenium.webdriver.common.action_chains import ActionChains\n",
    "actions = ActionChains(browser)\n",
    "actions.move_to_element(lastID).perform()\n"
   ]
  },
  {
   "cell_type": "code",
   "execution_count": 22,
   "metadata": {},
   "outputs": [
    {
     "name": "stdout",
     "output_type": "stream",
     "text": [
      "elazartinajero\n",
      "corbin_fath\n",
      "malki23\n",
      "bharris1513realty\n",
      "camronashley_\n",
      "teddybshow22\n",
      "yei.colmenarez\n",
      "oscar_tejeda14\n",
      "josephjanik\n",
      "a.l.a.m00\n",
      "sporkietales4\n",
      "wampss\n",
      "keegan_baz14\n",
      "joseph_odom923\n",
      "junitocarrion725\n",
      "wade.cooper6\n",
      "paige_dalton28\n",
      "suero_roberto\n",
      "luke.894\n",
      "mikemills350\n",
      "luca.rosatisbt\n",
      "lisa_._james\n",
      "garbagehammer21\n",
      "isaac_19escammila\n"
     ]
    }
   ],
   "source": [
    "for i in targets:\n",
    "    print(i.text)"
   ]
  },
  {
   "cell_type": "code",
   "execution_count": null,
   "metadata": {},
   "outputs": [],
   "source": []
  }
 ],
 "metadata": {
  "kernelspec": {
   "display_name": "Python 3",
   "language": "python",
   "name": "python3"
  },
  "language_info": {
   "codemirror_mode": {
    "name": "ipython",
    "version": 3
   },
   "file_extension": ".py",
   "mimetype": "text/x-python",
   "name": "python",
   "nbconvert_exporter": "python",
   "pygments_lexer": "ipython3",
   "version": "3.8.5"
  }
 },
 "nbformat": 4,
 "nbformat_minor": 4
}
